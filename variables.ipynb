{
 "cells": [
  {
   "cell_type": "markdown",
   "id": "530e4427-ec54-4886-b93e-cc9db87f1973",
   "metadata": {},
   "source": [
    "# VARIABLES"
   ]
  },
  {
   "cell_type": "raw",
   "id": "06b58bdd-3608-4e1f-873b-e002f234be34",
   "metadata": {},
   "source": [
    "✓ Name should start with lower case.\n",
    "✓ If name having multiple words then separating every word with\n",
    "underscore symbol is a good practice"
   ]
  },
  {
   "cell_type": "code",
   "execution_count": 1,
   "id": "6714301b-f857-4213-9f84-b041a9054d43",
   "metadata": {},
   "outputs": [
    {
     "name": "stdout",
     "output_type": "stream",
     "text": [
      "value\n"
     ]
    }
   ],
   "source": [
    "#syntax\n",
    "name_of_the_variable=\"value\"\n",
    "print(name_of_the_variable)"
   ]
  },
  {
   "cell_type": "code",
   "execution_count": 2,
   "id": "5cc40a88-10ed-419c-afc2-d2c16c07c07e",
   "metadata": {},
   "outputs": [
    {
     "name": "stdout",
     "output_type": "stream",
     "text": [
      "23\n"
     ]
    }
   ],
   "source": [
    "age=23\n",
    "print(age)"
   ]
  },
  {
   "cell_type": "raw",
   "id": "07f2f8a3-b20b-42d9-a03b-967fe6fc6e6d",
   "metadata": {},
   "source": [
    "Important note\n",
    "✓ Python having dynamic data type nature.\n",
    "✓ It means, while creating variable we no need to provide the data\n",
    "type explicitly in python."
   ]
  },
  {
   "cell_type": "code",
   "execution_count": 3,
   "id": "a591d2cb-ac63-454d-9906-5851a3d2e896",
   "metadata": {},
   "outputs": [
    {
     "name": "stdout",
     "output_type": "stream",
     "text": [
      "1\n",
      "2\n",
      "3\n"
     ]
    }
   ],
   "source": [
    "##creating a multiple variables with single line \n",
    "a,b,c =1,2,3\n",
    "print(a)\n",
    "print(b)\n",
    "print(c)\n"
   ]
  },
  {
   "cell_type": "code",
   "execution_count": 4,
   "id": "59014786-dfa7-4fd4-97db-67aa3ba090c6",
   "metadata": {},
   "outputs": [
    {
     "name": "stdout",
     "output_type": "stream",
     "text": [
      "9800\n",
      "9800\n",
      "9800\n"
     ]
    }
   ],
   "source": [
    "#creating a single value for multiple variables\n",
    "a=b=c=9800\n",
    "print(a)\n",
    "print(b)\n",
    "print(c)"
   ]
  },
  {
   "cell_type": "markdown",
   "id": "244adf2b-078e-413e-bea8-21590ca004b9",
   "metadata": {},
   "source": [
    "### variable reintialization "
   ]
  },
  {
   "cell_type": "raw",
   "id": "1771cf14-5f73-400d-969c-c91d24c5e871",
   "metadata": {},
   "source": [
    "Based on requirement we can re-initialize existing variable value.\n",
    "✓ In variable re-initialization old values will be replaced with new values."
   ]
  },
  {
   "cell_type": "code",
   "execution_count": 6,
   "id": "8e904f55-553a-40ae-96f4-b366a0d53de0",
   "metadata": {},
   "outputs": [
    {
     "name": "stdout",
     "output_type": "stream",
     "text": [
      "23000\n"
     ]
    }
   ],
   "source": [
    "sal=10000\n",
    "sal=23000\n",
    "print(sal)"
   ]
  },
  {
   "cell_type": "code",
   "execution_count": null,
   "id": "bed8cdf8-6385-4078-a47c-da939b76c05f",
   "metadata": {},
   "outputs": [],
   "source": []
  }
 ],
 "metadata": {
  "kernelspec": {
   "display_name": "Python 3 (ipykernel)",
   "language": "python",
   "name": "python3"
  },
  "language_info": {
   "codemirror_mode": {
    "name": "ipython",
    "version": 3
   },
   "file_extension": ".py",
   "mimetype": "text/x-python",
   "name": "python",
   "nbconvert_exporter": "python",
   "pygments_lexer": "ipython3",
   "version": "3.12.5"
  }
 },
 "nbformat": 4,
 "nbformat_minor": 5
}
