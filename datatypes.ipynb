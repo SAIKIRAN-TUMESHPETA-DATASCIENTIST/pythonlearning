{
 "cells": [
  {
   "cell_type": "markdown",
   "id": "f9912aee-2f65-4168-b410-8e399cb7385a",
   "metadata": {},
   "source": [
    "# DATA TYPES"
   ]
  },
  {
   "cell_type": "code",
   "execution_count": 2,
   "id": "2218ea1b-a8a6-43a6-b885-3eb04f70c711",
   "metadata": {},
   "outputs": [
    {
     "name": "stdout",
     "output_type": "stream",
     "text": [
      "emp_id is  98\n",
      "emp_name is  saikiran\n",
      "emp_salary is  9800.98\n"
     ]
    }
   ],
   "source": [
    "#creating data types \n",
    "emp_id=98\n",
    "emp_name=\"saikiran\"\n",
    "emp_salary=9800.98\n",
    "print(\"emp_id is \" , emp_id)\n",
    "print(\"emp_name is \" , emp_name)\n",
    "print(\"emp_salary is \" , emp_salary)\n"
   ]
  },
  {
   "cell_type": "code",
   "execution_count": 4,
   "id": "886774a0-5c96-4f4c-b24f-b0a7164a4126",
   "metadata": {},
   "outputs": [
    {
     "name": "stdout",
     "output_type": "stream",
     "text": [
      "emp_id type is :  <class 'int'>\n",
      "Emp_name is :   <class 'str'>\n",
      "emp_salary is :  <class 'float'>\n"
     ]
    }
   ],
   "source": [
    "#checking the types of data with the type(p) function \n",
    "print(\"emp_id type is : \", type(emp_id))\n",
    "print(\"Emp_name is :  \", type(emp_name))\n",
    "print(\"emp_salary is : \", type (emp_salary))\n"
   ]
  },
  {
   "cell_type": "raw",
   "id": "7d290b03-68c3-43b1-a9b6-0f3a85a0802d",
   "metadata": {},
   "source": [
    "DIFFERENT TYPES OD DATA TYPES \n",
    "1.USER DEFINED DTYPES\n",
    "2.BUILT IN DTYPES"
   ]
  },
  {
   "cell_type": "markdown",
   "id": "df813faf-0b7d-4c42-a81d-27e68da6c4c8",
   "metadata": {},
   "source": [
    "## BUILT IN DATA TYPES"
   ]
  },
  {
   "cell_type": "raw",
   "id": "ba60d7c0-2519-4182-83b2-0a3a0748938d",
   "metadata": {},
   "source": [
    "The data types which are already existing in python are called built-in\n",
    "data types.\n",
    "1. Numeric types\n",
    "o int\n",
    "o float\n",
    "2. bool (boolean type)\n",
    "3. None\n",
    "4. Sequence\n",
    "o str\n",
    "o list\n",
    "o tuple\n",
    "o set\n",
    "o dict\n",
    "o range\n"
   ]
  },
  {
   "cell_type": "code",
   "execution_count": 8,
   "id": "5bb363b8-5a20-4763-be13-5fc08443885d",
   "metadata": {},
   "outputs": [
    {
     "name": "stdout",
     "output_type": "stream",
     "text": [
      "20\n",
      "<class 'int'>\n",
      "99.99\n",
      "<class 'float'>\n"
     ]
    }
   ],
   "source": [
    "#int data type\n",
    "a=20 \n",
    "print(a)\n",
    "print(type(a))\n",
    "#float data type\n",
    "b=99.99\n",
    "print(b)\n",
    "print(type(b))\n"
   ]
  },
  {
   "cell_type": "code",
   "execution_count": 11,
   "id": "24cae7dc-dace-4c29-b4ac-e3cf350ca596",
   "metadata": {},
   "outputs": [
    {
     "name": "stdout",
     "output_type": "stream",
     "text": [
      "True\n",
      "type of a is : <class 'bool'>\n",
      "type of b is  <class 'bool'>\n"
     ]
    }
   ],
   "source": [
    "#bool data type\n",
    "a=True\n",
    "b=False\n",
    "print(a)\n",
    "print(\"type of a is :\", type(a))\n",
    "print(\"type of b is \" , type(b))"
   ]
  },
  {
   "cell_type": "code",
   "execution_count": 12,
   "id": "07da08bf-cae1-469c-a0eb-3ec9460fe1db",
   "metadata": {},
   "outputs": [
    {
     "name": "stdout",
     "output_type": "stream",
     "text": [
      "None\n",
      "type of a is  <class 'NoneType'>\n"
     ]
    }
   ],
   "source": [
    "#none data type : it is an objent that does not contain any value \n",
    "a=None\n",
    "print(a)\n",
    "print(\"type of a is \" , type (a))"
   ]
  },
  {
   "cell_type": "markdown",
   "id": "8733be3c-f381-4273-bc14-dfbbf819544c",
   "metadata": {},
   "source": [
    "# sequence data type\n"
   ]
  },
  {
   "cell_type": "raw",
   "id": "c9249ab7-e501-49d9-8291-a8ea6a6a4e0a",
   "metadata": {},
   "source": [
    "4. Sequences in Python\n",
    "✓ Sequence means an object.\n",
    "✓ Sequence object can store a group of values,\n",
    "1. string\n",
    "2. list\n",
    "3. tuple\n",
    "4. set\n",
    "5. dict\n",
    "6. range"
   ]
  },
  {
   "cell_type": "code",
   "execution_count": 19,
   "id": "e433b41e-a3e5-49b3-a368-91b8b93967e4",
   "metadata": {},
   "outputs": [
    {
     "name": "stdout",
     "output_type": "stream",
     "text": [
      "saikiran <class 'str'>\n",
      "[98, 99] <class 'list'>\n",
      "(99, 100) <class 'tuple'>\n",
      "{34, 99} <class 'set'>\n",
      "{'name': ['sai', 'nithinkiran'], 'age': [20, 32, 21]} <class 'dict'>\n",
      "0\n",
      "20\n",
      "40\n",
      "60\n",
      "80\n",
      "80\n",
      "value type is :  <class 'int'>\n",
      "values type is :  <class 'range'>\n"
     ]
    }
   ],
   "source": [
    "#string\n",
    "name=\"saikiran\"\n",
    "print(name, type(name))\n",
    "#list \n",
    "value =[98,99]\n",
    "print(value ,type(value))\n",
    "#tuple\n",
    "tuple_value=(99,100)\n",
    "print(tuple_value , type(tuple_value))\n",
    "#set\n",
    "set_value={99,34}\n",
    "print(set_value ,type(set_value))\n",
    "#dictionary\n",
    "details={\n",
    "    \"name\": [ \"sai\", \"nithin\" \"kiran\"],\n",
    "    \"age\" : [ 20,32,21]\n",
    "}\n",
    "print(details,type(details))\n",
    "#range\n",
    "values=range(0,100,20)\n",
    "for value in values: \n",
    "    print(value)\n",
    "print(value)\n",
    "print(\"value type is : \" , type(value))\n",
    "print(\"values type is : \" , type(values))\n",
    "\n",
    "\n"
   ]
  },
  {
   "cell_type": "markdown",
   "id": "ccb2778a-5138-429c-a40c-d63e6eec89d1",
   "metadata": {},
   "source": [
    " ## USER DEFINED DATA TYPES\n"
   ]
  },
  {
   "cell_type": "raw",
   "id": "0ce74f57-95a8-467d-94cb-92cf2056a8c7",
   "metadata": {},
   "source": [
    "DATA TYPES CREATED BY THE PROGRAMMER ARE USER DEFINED DATA TYPES"
   ]
  },
  {
   "cell_type": "code",
   "execution_count": 24,
   "id": "9caa10ca-c6b4-4c1f-a353-8ae6c640d633",
   "metadata": {},
   "outputs": [
    {
     "name": "stdout",
     "output_type": "stream",
     "text": [
      "98 <class 'int'>\n",
      "98 <class 'str'>\n",
      "98.0 <class 'float'>\n"
     ]
    }
   ],
   "source": [
    "#converting int  to str \n",
    "a=98\n",
    "print(a,type(a))\n",
    "b=str(a)\n",
    "print(b,type(b))\n",
    "c=float(b)\n",
    "print(c,type(c))"
   ]
  },
  {
   "cell_type": "code",
   "execution_count": null,
   "id": "f955a7bf-72f5-4920-a8ca-a04a50fb414f",
   "metadata": {},
   "outputs": [],
   "source": []
  }
 ],
 "metadata": {
  "kernelspec": {
   "display_name": "Python 3 (ipykernel)",
   "language": "python",
   "name": "python3"
  },
  "language_info": {
   "codemirror_mode": {
    "name": "ipython",
    "version": 3
   },
   "file_extension": ".py",
   "mimetype": "text/x-python",
   "name": "python",
   "nbconvert_exporter": "python",
   "pygments_lexer": "ipython3",
   "version": "3.12.5"
  }
 },
 "nbformat": 4,
 "nbformat_minor": 5
}
