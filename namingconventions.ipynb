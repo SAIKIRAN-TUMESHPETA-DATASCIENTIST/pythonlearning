{
 "cells": [
  {
   "cell_type": "markdown",
   "id": "05ae222c-b4dc-4103-9ae5-0ed227b30278",
   "metadata": {},
   "source": [
    "# NAMING CONVENTIONS\n"
   ]
  },
  {
   "cell_type": "markdown",
   "id": "389e9b31-bc29-463d-8fbe-0f0b18232efd",
   "metadata": {},
   "source": [
    "### naming conventions\n",
    " ### While writing an identifier we can use,\n",
    "###  Alphabets, either upper case or lower case\n",
    "### numbers from 0 to 9\n",
    "### Underscore symbol (_)"
   ]
  },
  {
   "cell_type": "code",
   "execution_count": 1,
   "id": "c92f5112-702a-4f91-80cd-21f570506dab",
   "metadata": {},
   "outputs": [
    {
     "ename": "SyntaxError",
     "evalue": "invalid syntax (1329704737.py, line 1)",
     "output_type": "error",
     "traceback": [
      "\u001b[1;36m  Cell \u001b[1;32mIn[1], line 1\u001b[1;36m\u001b[0m\n\u001b[1;33m    $tudent_id=102\u001b[0m\n\u001b[1;37m    ^\u001b[0m\n\u001b[1;31mSyntaxError\u001b[0m\u001b[1;31m:\u001b[0m invalid syntax\n"
     ]
    }
   ],
   "source": [
    "$tudent_id=102\n",
    "print($tudent_id)"
   ]
  },
  {
   "cell_type": "code",
   "execution_count": 2,
   "id": "09c04779-6829-4d3c-a7f2-1620b4e6ff10",
   "metadata": {},
   "outputs": [],
   "source": [
    "#point2 identifie should not start with  digit\n"
   ]
  },
  {
   "cell_type": "code",
   "execution_count": 3,
   "id": "b3c111f9-5982-4ac0-9ae2-6c318e995555",
   "metadata": {},
   "outputs": [
    {
     "ename": "SyntaxError",
     "evalue": "invalid decimal literal (2123874596.py, line 1)",
     "output_type": "error",
     "traceback": [
      "\u001b[1;36m  Cell \u001b[1;32mIn[3], line 1\u001b[1;36m\u001b[0m\n\u001b[1;33m    123_student_Id=1-1\u001b[0m\n\u001b[1;37m       ^\u001b[0m\n\u001b[1;31mSyntaxError\u001b[0m\u001b[1;31m:\u001b[0m invalid decimal literal\n"
     ]
    }
   ],
   "source": [
    "123_student_Id=1-1\n",
    "print(123_student_Id"
   ]
  },
  {
   "cell_type": "code",
   "execution_count": 4,
   "id": "90debeb6-458a-4a4b-820f-e6f6644fcd0b",
   "metadata": {},
   "outputs": [],
   "source": [
    "#Point 3 identifier is case sensitive\n"
   ]
  },
  {
   "cell_type": "code",
   "execution_count": 5,
   "id": "f81a913c-c534-4bc8-8bf8-00b58e4dfd38",
   "metadata": {},
   "outputs": [
    {
     "ename": "NameError",
     "evalue": "name 'Value' is not defined",
     "output_type": "error",
     "traceback": [
      "\u001b[1;31m---------------------------------------------------------------------------\u001b[0m",
      "\u001b[1;31mNameError\u001b[0m                                 Traceback (most recent call last)",
      "Cell \u001b[1;32mIn[5], line 2\u001b[0m\n\u001b[0;32m      1\u001b[0m value\u001b[38;5;241m=\u001b[39m\u001b[38;5;241m1\u001b[39m\n\u001b[1;32m----> 2\u001b[0m \u001b[38;5;28mprint\u001b[39m(\u001b[43mValue\u001b[49m)\n",
      "\u001b[1;31mNameError\u001b[0m: name 'Value' is not defined"
     ]
    }
   ],
   "source": [
    "value=1\n",
    "print(Value)"
   ]
  },
  {
   "cell_type": "code",
   "execution_count": 7,
   "id": "3eebdc5c-aabf-40cc-924e-12218441c494",
   "metadata": {},
   "outputs": [
    {
     "ename": "SyntaxError",
     "evalue": "invalid syntax (2020789117.py, line 2)",
     "output_type": "error",
     "traceback": [
      "\u001b[1;36m  Cell \u001b[1;32mIn[7], line 2\u001b[1;36m\u001b[0m\n\u001b[1;33m    if =10\u001b[0m\n\u001b[1;37m       ^\u001b[0m\n\u001b[1;31mSyntaxError\u001b[0m\u001b[1;31m:\u001b[0m invalid syntax\n"
     ]
    }
   ],
   "source": [
    "#point 4  : cannot use keywords as identifires\n",
    "if =10\n",
    "print(10)"
   ]
  },
  {
   "cell_type": "code",
   "execution_count": 8,
   "id": "03ad8376-1f22-47bc-843d-9531cb2394d3",
   "metadata": {},
   "outputs": [
    {
     "ename": "SyntaxError",
     "evalue": "invalid syntax (2727681434.py, line 2)",
     "output_type": "error",
     "traceback": [
      "\u001b[1;36m  Cell \u001b[1;32mIn[8], line 2\u001b[1;36m\u001b[0m\n\u001b[1;33m    student id =98\u001b[0m\n\u001b[1;37m            ^\u001b[0m\n\u001b[1;31mSyntaxError\u001b[0m\u001b[1;31m:\u001b[0m invalid syntax\n"
     ]
    }
   ],
   "source": [
    "# point 5 : spaces are not allowed between identifier \n",
    "student id =98\n",
    "print(student id =98)\n"
   ]
  },
  {
   "cell_type": "raw",
   "id": "903cf454-65f7-4751-a103-3acf1e10a5a0",
   "metadata": {},
   "source": [
    "by the above 5 points  are the main for identifier \n",
    "error we get : syntaxError\n"
   ]
  },
  {
   "cell_type": "markdown",
   "id": "9d5a161b-ef5c-441b-af0d-27da1bffe83c",
   "metadata": {},
   "source": [
    "# comments in programs"
   ]
  },
  {
   "cell_type": "raw",
   "id": "1f91cabc-9e7b-4a44-a087-58465c6e8484",
   "metadata": {},
   "source": [
    "✓ There are two types of comments\n",
    "1. Single line comments\n",
    "2. Multi line comments\n",
    "\n",
    "Purpose of comments\n",
    "✓ Comments are useful to describe about the code in an easy way.\n",
    "✓ Python ignores comments while running the program.\n",
    "1. Singe line comments\n",
    "✓ By using single line comment, we can comment only a single line.\n",
    "✓ To comment single line, we need to use hash symbol #\n",
    "2.Multiline comments\n",
    "✓ By using multi line comment we can comment multiple lines.\n",
    "✓ To comment multiple lines, we need to use triple double quotes symbol."
   ]
  },
  {
   "cell_type": "code",
   "execution_count": 10,
   "id": "ae6a8e5f-6d71-43f4-ab93-1b87e23b845e",
   "metadata": {},
   "outputs": [
    {
     "data": {
      "text/plain": [
       "'author saikiran \\nprojent python \\nlocation hyderabad'"
      ]
     },
     "execution_count": 10,
     "metadata": {},
     "output_type": "execute_result"
    }
   ],
   "source": [
    "\"\"\"author saikiran \n",
    "projent python \n",
    "location hyderabad\"\"\""
   ]
  },
  {
   "cell_type": "code",
   "execution_count": 11,
   "id": "2d395248-9583-41be-9c67-6d56a1592c07",
   "metadata": {},
   "outputs": [
    {
     "name": "stdout",
     "output_type": "stream",
     "text": [
      "welcome to python programming \n"
     ]
    }
   ],
   "source": [
    "print(\"welcome to python programming \")\n"
   ]
  },
  {
   "cell_type": "code",
   "execution_count": null,
   "id": "373ffce0-3bca-4d01-ae3b-4d2f5d6037b3",
   "metadata": {},
   "outputs": [],
   "source": []
  }
 ],
 "metadata": {
  "kernelspec": {
   "display_name": "Python 3 (ipykernel)",
   "language": "python",
   "name": "python3"
  },
  "language_info": {
   "codemirror_mode": {
    "name": "ipython",
    "version": 3
   },
   "file_extension": ".py",
   "mimetype": "text/x-python",
   "name": "python",
   "nbconvert_exporter": "python",
   "pygments_lexer": "ipython3",
   "version": "3.12.5"
  }
 },
 "nbformat": 4,
 "nbformat_minor": 5
}
